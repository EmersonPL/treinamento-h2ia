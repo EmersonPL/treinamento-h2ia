{
  "nbformat": 4,
  "nbformat_minor": 0,
  "metadata": {
    "colab": {
      "name": "Algoritmo_genético.ipynb",
      "provenance": [],
      "collapsed_sections": []
    },
    "kernelspec": {
      "name": "python3",
      "display_name": "Python 3"
    },
    "language_info": {
      "name": "python"
    }
  },
  "cells": [
    {
      "cell_type": "code",
      "metadata": {
        "id": "aoLCL3XlIVHv"
      },
      "source": [
        "class Knapsack:\n",
        "  def __init__(self, knapsack, weights, values):\n",
        "    self.knapsack = knapsack\n",
        "\n",
        "    self.w = knapsack.dot(weights)\n",
        "    self.v = knapsack.dot(values)"
      ],
      "execution_count": 38,
      "outputs": []
    },
    {
      "cell_type": "code",
      "metadata": {
        "id": "8kkxdp_NLB8T"
      },
      "source": [
        "class GeneticAlg:\n",
        "  import numpy as np\n",
        "\n",
        "  def __init__(self, weights, values, max_weight, \n",
        "               num_generations=10, population_size=10, mutation_prob=0.15):\n",
        "    self.weights = weights\n",
        "    self.values = values\n",
        "    self.max_weight = max_weight\n",
        "\n",
        "    self.population_size = population_size\n",
        "    self.num_generations = num_generations\n",
        "    self.mutation_prob = mutation_prob\n",
        "\n",
        "    self.population = self.initialize_population(self.population_size)\n",
        "    self.best_solution = self.get_best_solution(self.population)\n",
        "\n",
        "  def run(self):\n",
        "    for i in range(self.num_generations):\n",
        "      parents = self.select_parents()\n",
        "      new_gen = self.create_new_gen(parents)\n",
        "\n",
        "      best = self.get_best_solution(new_gen)\n",
        "      if best is not None and best.v > self.best_solution.v:\n",
        "        self.best_solution = best\n",
        "\n",
        "      self.population = new_gen\n",
        "\n",
        "    return self.population\n",
        "\n",
        "\n",
        "\n",
        "  def select_parents(self):\n",
        "    parents = []\n",
        "\n",
        "    values = [x.v + 1 for x in self.population]\n",
        "    s = sum(values)\n",
        "\n",
        "    for _ in range(self.population_size):\n",
        "      parents.append(self.roulette(values, s))\n",
        "\n",
        "    return parents\n",
        "\n",
        "  def roulette(self, values, s):\n",
        "    rng = np.random.default_rng()\n",
        "    r = rng.integers(s)\n",
        "\n",
        "    current = 0\n",
        "    for i, val in enumerate(values):\n",
        "      current += val\n",
        "      if current > r:\n",
        "        return self.population[i]\n",
        "\n",
        "\n",
        "  def create_new_gen(self, parents):\n",
        "    new_gen = []\n",
        "\n",
        "    for p1, p2 in zip(parents[0::2], parents[1::2]):\n",
        "      new_gen.extend(self.generate_children(p1, p2))\n",
        "\n",
        "    self.sort_population(new_gen)\n",
        "    return new_gen\n",
        "\n",
        "  \n",
        "  def generate_children(self, p1, p2):\n",
        "    gen1 = p1.knapsack\n",
        "    gen2 = p2.knapsack\n",
        "\n",
        "    gen1, gen2 = self.crossover(gen1, gen2)\n",
        "    self.mutate(gen1)\n",
        "    self.mutate(gen2)\n",
        "\n",
        "    return (Knapsack(gen1, self.weights, self.values), \n",
        "            Knapsack(gen2, self.weights, self.values))\n",
        "    \n",
        "\n",
        "  def crossover(self, p1, p2):\n",
        "    rng = np.random.default_rng()\n",
        "    r = rng.integers(len(p1))\n",
        "\n",
        "    c1 = p1[:r]\n",
        "    c1 = np.concatenate([c1, p2[r:]])\n",
        "\n",
        "    c2 = p1[r:]\n",
        "    c2 = np.concatenate([c2, p2[:r]])\n",
        "    \n",
        "    return c1, c2\n",
        "\n",
        "  \n",
        "  def mutate(self, gen):\n",
        "    rng = np.random.default_rng()\n",
        "    r = rng.random()\n",
        "\n",
        "    if r < self.mutation_prob:\n",
        "      i = rng.integers(len(gen))\n",
        "      gen[i] = (gen[i] + 1) % 2\n",
        "\n",
        "    \n",
        "  def initialize_population(self, size):\n",
        "    p = []\n",
        "\n",
        "    while len(p) < size:\n",
        "      p.append(self.generate_random_solution())\n",
        "\n",
        "    self.sort_population(p)\n",
        "    return p\n",
        "\n",
        "  def generate_random_solution(self):\n",
        "    rng = np.random.default_rng()\n",
        "    while True:\n",
        "      k = rng.integers(1, size=len(self.weights), endpoint=True)\n",
        "\n",
        "      solution = Knapsack(k, self.weights, self.values)\n",
        "      \n",
        "      if self.check_solution(solution):\n",
        "        return solution\n",
        "\n",
        "  def check_solution(self, solution):\n",
        "    if solution.w > self.max_weight:\n",
        "      return False\n",
        "\n",
        "    return True\n",
        "\n",
        "  def sort_population(self, p):\n",
        "    p.sort(key=lambda x: x.v, reverse=True)\n",
        "\n",
        "  def get_best_solution(self, population):\n",
        "    for solution in population:\n",
        "      if self.check_solution(solution):\n",
        "        return solution\n"
      ],
      "execution_count": 86,
      "outputs": []
    },
    {
      "cell_type": "code",
      "metadata": {
        "id": "CkuWzcKDKdLU"
      },
      "source": [
        "import numpy as np"
      ],
      "execution_count": 87,
      "outputs": []
    },
    {
      "cell_type": "code",
      "metadata": {
        "id": "dgVRJNGnHdra"
      },
      "source": [
        "w = np.array([63, 21,  2, 32, 13, 80, 19, 37, 56, 41, 14,  8, 32, 42,  7])\n",
        "v = np.array([13,  2, 20, 10,  7, 14,  7,  2,  2,  4, 16, 17, 17,  3, 21])\n",
        "\n",
        "max_weight = 275"
      ],
      "execution_count": 96,
      "outputs": []
    },
    {
      "cell_type": "code",
      "metadata": {
        "id": "Y1OBwbCJLvOB"
      },
      "source": [
        "ga = GeneticAlg(w, v, max_weight, num_generations=25, population_size=50, mutation_prob=0.2)"
      ],
      "execution_count": 124,
      "outputs": []
    },
    {
      "cell_type": "code",
      "metadata": {
        "id": "pDUXm3eXW2Q-"
      },
      "source": [
        "pop = ga.run()"
      ],
      "execution_count": 125,
      "outputs": []
    },
    {
      "cell_type": "code",
      "metadata": {
        "id": "V9cM6fh6YtIF"
      },
      "source": [
        "b = ga.best_solution"
      ],
      "execution_count": 126,
      "outputs": []
    },
    {
      "cell_type": "code",
      "metadata": {
        "colab": {
          "base_uri": "https://localhost:8080/"
        },
        "id": "B1cVNJSEYu0d",
        "outputId": "6ee0c11a-b742-4c59-8b41-61ecfd08022c"
      },
      "source": [
        "b.knapsack"
      ],
      "execution_count": 127,
      "outputs": [
        {
          "output_type": "execute_result",
          "data": {
            "text/plain": [
              "array([1, 1, 1, 1, 1, 1, 0, 0, 0, 0, 1, 1, 1, 0, 1])"
            ]
          },
          "metadata": {
            "tags": []
          },
          "execution_count": 127
        }
      ]
    },
    {
      "cell_type": "code",
      "metadata": {
        "colab": {
          "base_uri": "https://localhost:8080/"
        },
        "id": "zEbN3IAUYvgc",
        "outputId": "8e892d16-f606-465f-b9a4-059136c2469e"
      },
      "source": [
        "b.w"
      ],
      "execution_count": 128,
      "outputs": [
        {
          "output_type": "execute_result",
          "data": {
            "text/plain": [
              "272"
            ]
          },
          "metadata": {
            "tags": []
          },
          "execution_count": 128
        }
      ]
    },
    {
      "cell_type": "code",
      "metadata": {
        "colab": {
          "base_uri": "https://localhost:8080/"
        },
        "id": "qHC3nExwYwBV",
        "outputId": "8e459e7f-5e48-4803-ee64-4a44c7f24dea"
      },
      "source": [
        "b.v"
      ],
      "execution_count": 129,
      "outputs": [
        {
          "output_type": "execute_result",
          "data": {
            "text/plain": [
              "137"
            ]
          },
          "metadata": {
            "tags": []
          },
          "execution_count": 129
        }
      ]
    },
    {
      "cell_type": "code",
      "metadata": {
        "colab": {
          "base_uri": "https://localhost:8080/"
        },
        "id": "AlBQGGQZYwZl",
        "outputId": "bcae9481-7cce-4f1e-9edd-2984805324a1"
      },
      "source": [
        "for p in pop:\n",
        "  print(p.knapsack, p.w, p.v)"
      ],
      "execution_count": 130,
      "outputs": [
        {
          "output_type": "stream",
          "text": [
            "[1 1 1 1 1 1 1 1 0 1 1 1 1 1 1] 411 153\n",
            "[1 1 1 1 1 1 1 0 1 1 1 1 1 1 1] 430 153\n",
            "[1 0 1 1 1 1 1 1 1 1 1 1 1 1 1] 446 153\n",
            "[1 0 1 1 1 1 1 1 1 1 1 1 1 0 1] 404 150\n",
            "[1 0 1 1 1 1 1 1 1 1 1 1 1 0 1] 404 150\n",
            "[1 0 1 1 1 1 1 1 1 1 1 1 1 0 1] 404 150\n",
            "[1 0 1 1 0 1 1 1 1 1 1 1 1 1 1] 433 146\n",
            "[1 0 1 1 1 1 0 1 1 1 1 1 1 1 1] 427 146\n",
            "[1 0 1 1 0 1 1 1 1 1 1 1 1 1 1] 433 146\n",
            "[1 1 1 0 1 1 1 1 1 1 1 1 1 1 1] 435 145\n",
            "[0 0 1 1 1 1 1 1 1 1 1 1 1 1 1] 383 140\n",
            "[1 1 1 1 1 1 1 1 1 1 1 1 0 1 1] 435 138\n",
            "[1 1 1 0 0 1 1 1 1 1 1 1 1 1 1] 422 138\n",
            "[1 1 1 1 1 1 1 1 1 1 0 1 1 0 1] 411 136\n",
            "[1 1 0 1 1 1 1 1 1 1 1 1 1 1 1] 465 135\n",
            "[0 0 1 1 0 1 1 1 1 1 1 1 1 1 1] 370 133\n",
            "[1 0 0 1 1 1 1 1 1 1 1 1 1 1 1] 444 133\n",
            "[1 0 1 0 1 1 0 1 1 1 1 1 1 0 1] 353 133\n",
            "[1 1 1 1 1 1 1 0 1 0 1 0 1 1 1] 381 132\n",
            "[1 1 1 1 1 0 1 0 1 0 1 1 1 0 1] 267 132\n",
            "[1 1 1 0 1 0 1 1 1 1 1 1 1 1 1] 355 131\n",
            "[1 0 1 0 0 1 1 1 0 1 1 1 1 0 1] 303 131\n",
            "[0 1 1 0 1 1 1 0 1 1 1 1 1 1 1] 335 130\n",
            "[1 1 1 0 1 1 1 1 1 1 1 0 1 1 1] 427 128\n",
            "[0 1 1 1 0 1 1 0 0 1 1 1 1 0 1] 256 128\n",
            "[1 0 1 1 0 0 1 1 1 0 1 1 1 1 1] 312 128\n",
            "[1 1 1 1 1 1 0 1 1 1 1 1 1 1 0] 441 127\n",
            "[1 1 1 0 0 0 1 1 1 1 1 1 1 1 1] 342 124\n",
            "[1 0 0 1 1 1 0 1 1 1 1 1 1 0 1] 383 123\n",
            "[1 1 1 0 1 0 0 0 1 1 1 1 1 1 1] 299 122\n",
            "[0 0 1 1 1 0 1 1 0 1 1 1 1 0 1] 205 121\n",
            "[0 1 1 1 0 1 1 1 1 1 0 1 1 1 1] 377 119\n",
            "[1 1 1 1 1 1 1 0 1 0 1 0 0 1 1] 349 115\n",
            "[1 1 1 1 0 1 0 1 0 0 1 0 1 0 1] 288 115\n",
            "[1 0 1 1 1 1 0 1 1 1 0 0 1 1 1] 405 113\n",
            "[1 1 0 1 1 0 0 0 1 1 1 1 1 1 1] 329 112\n",
            "[0 1 1 1 1 0 1 1 1 1 1 0 1 1 1] 316 111\n",
            "[0 0 1 1 1 0 1 1 1 1 0 1 1 1 1] 289 110\n",
            "[1 1 1 1 1 1 0 0 1 1 1 1 0 1 0] 372 108\n",
            "[1 1 0 0 1 1 1 0 1 1 1 1 0 1 1] 364 106\n",
            "[1 1 0 1 1 1 0 0 1 0 0 1 1 1 1] 354 106\n",
            "[1 1 1 1 1 1 0 1 0 1 1 0 1 0 0] 335 105\n",
            "[0 1 0 0 1 1 0 0 1 1 1 1 1 1 1] 314 103\n",
            "[1 1 0 1 1 0 1 0 1 1 0 1 1 1 1] 334 103\n",
            "[1 0 1 0 0 0 0 1 1 1 1 1 0 1 1] 270 98\n",
            "[0 1 0 1 1 1 0 0 1 1 1 0 1 1 1] 338 96\n",
            "[0 1 1 0 0 0 1 1 1 1 0 1 1 1 1] 265 95\n",
            "[1 1 1 1 1 1 0 1 1 1 0 0 1 0 0] 377 91\n",
            "[0 1 1 1 1 1 1 1 0 1 0 0 0 1 1] 294 90\n",
            "[1 1 1 0 1 0 1 1 1 0 1 1 0 1 0] 275 89\n"
          ],
          "name": "stdout"
        }
      ]
    },
    {
      "cell_type": "code",
      "metadata": {
        "id": "tSbwGwjasxc2"
      },
      "source": [
        ""
      ],
      "execution_count": null,
      "outputs": []
    }
  ]
}