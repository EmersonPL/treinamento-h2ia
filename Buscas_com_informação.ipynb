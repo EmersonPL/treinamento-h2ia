{
  "nbformat": 4,
  "nbformat_minor": 0,
  "metadata": {
    "colab": {
      "name": "Buscas_com_informação.ipynb",
      "provenance": [],
      "collapsed_sections": []
    },
    "kernelspec": {
      "display_name": "Python 3",
      "language": "python",
      "name": "python3"
    },
    "language_info": {
      "codemirror_mode": {
        "name": "ipython",
        "version": 3
      },
      "file_extension": ".py",
      "mimetype": "text/x-python",
      "name": "python",
      "nbconvert_exporter": "python",
      "pygments_lexer": "ipython3",
      "version": "3.7.4"
    }
  },
  "cells": [
    {
      "cell_type": "markdown",
      "metadata": {
        "id": "21uUELma0562"
      },
      "source": [
        "# O Problema\n",
        "Sliding Puzzle - Bloco Deslizante"
      ]
    },
    {
      "cell_type": "code",
      "metadata": {
        "colab": {
          "base_uri": "https://localhost:8080/",
          "height": 218
        },
        "id": "duRbJW3rz01L",
        "outputId": "008d3f8c-5728-4ebe-8e35-f80f801093b2"
      },
      "source": [
        "# !wget -qq https://miro.medium.com/max/700/1*W7jg4GmEjGBypd9WPktasQ.gif\n",
        "from IPython.display import Image\n",
        "Image(url='https://miro.medium.com/max/700/1*W7jg4GmEjGBypd9WPktasQ.gif',width=200)"
      ],
      "execution_count": 1,
      "outputs": [
        {
          "output_type": "execute_result",
          "data": {
            "text/html": [
              "<img src=\"https://miro.medium.com/max/700/1*W7jg4GmEjGBypd9WPktasQ.gif\" width=\"200\"/>"
            ],
            "text/plain": [
              "<IPython.core.display.Image object>"
            ]
          },
          "metadata": {
            "tags": []
          },
          "execution_count": 1
        }
      ]
    },
    {
      "cell_type": "code",
      "metadata": {
        "id": "-QeMzzy81dMa"
      },
      "source": [
        "import numpy as np\n",
        "\n",
        "class Puzzle:\n",
        "  def __init__(self, board=None, min_moves=5, max_moves=20):  \n",
        "    if board is None:\n",
        "      self.board = np.array([[1,2,3],[4,5,6],[7,8,-1]])\n",
        "      self.empty = (2,2)\n",
        "\n",
        "      self.shuffle(min_moves, max_moves)\n",
        "    else:\n",
        "      self.board = board\n",
        "      e = np.where(board == -1)\n",
        "      self.empty = (e[0][0], e[1][0])\n",
        "\n",
        "\n",
        "  def encode(self):\n",
        "    return np.array2string(self.board.flatten(), separator='')\n",
        "        \n",
        "  def print_board(self):\n",
        "    print(self.board)\n",
        "        \n",
        "  def get_allowed_moves(self):\n",
        "    allowed_moves = []\n",
        "    \n",
        "    allowed_moves += self.get_vertical_moves()\n",
        "    allowed_moves += self.get_horizontal_moves()\n",
        "\n",
        "    return allowed_moves\n",
        "\n",
        "    \n",
        "  def get_vertical_moves(self):\n",
        "    allowed_moves = []\n",
        "    if self.empty[0] > 0:\n",
        "      allowed_moves.append((self.empty[0] - 1, self.empty[1])) # down\n",
        "    if self.empty[0] < len(self.board) - 1:\n",
        "      allowed_moves.append((self.empty[0] + 1, self.empty[1])) # up\n",
        "        \n",
        "    return allowed_moves\n",
        "          \n",
        "  def get_horizontal_moves(self):\n",
        "    allowed_moves = []\n",
        "    if self.empty[1] > 0:\n",
        "      allowed_moves.append((self.empty[0], self.empty[1] - 1)) # right\n",
        "    if self.empty[1] < len(self.board) - 1:\n",
        "      allowed_moves.append((self.empty[0], self.empty[1] + 1)) # left\n",
        "          \n",
        "    return allowed_moves\n",
        "  \n",
        "\n",
        "    \n",
        "  def move(self, piece_to_move):\n",
        "    self.board[self.empty] = self.board[piece_to_move]\n",
        "    self.board[piece_to_move] = -1\n",
        "      \n",
        "    self.empty = piece_to_move\n",
        "        \n",
        "    \n",
        "    \n",
        "  def check_puzzle(self):\n",
        "    if np.array_equal(self.board, np.array([[1,2,3],[4,5,6],[7,8,-1]])): \n",
        "      return True\n",
        "    \n",
        "    return False\n",
        "\n",
        "\n",
        "                \n",
        "                \n",
        "  def shuffle(self, min_moves, max_moves):\n",
        "    rng = np.random.default_rng()\n",
        "    num_of_moves = rng.integers(min_moves, max_moves)\n",
        "\n",
        "    for i in range(num_of_moves):\n",
        "      allowed_moves = self.get_allowed_moves()\n",
        "      move = rng.integers(0, len(allowed_moves))\n",
        "\n",
        "      self.move((allowed_moves[move]))\n",
        "\n",
        "\n",
        "  def distance_to_solution(self):\n",
        "    return np.sum(self.board != np.array([[1,2,3],[4,5,6],[7,8,-1]]))\n"
      ],
      "execution_count": 2,
      "outputs": []
    },
    {
      "cell_type": "code",
      "metadata": {
        "id": "O2c84Mpw1dMc"
      },
      "source": [
        "class Tree:\n",
        "  def __init__(self, movement, puzzle, parent=None):\n",
        "    self.movement = movement\n",
        "    self.puzzle = puzzle\n",
        "    self.children = puzzle.get_allowed_moves()\n",
        "    self.parent = parent\n",
        "    \n",
        "    if parent is None:\n",
        "      self.g = 0\n",
        "    else:\n",
        "      self.g = parent.g + 1\n",
        "\n",
        "    self.h = puzzle.distance_to_solution()\n",
        "    self.f = self.g + self.h\n",
        "\n",
        "    self.visited = False\n",
        "\n",
        "  def create_child(self, i): # cria o filho i (adiciona o puzzle, executa o movimento, cria a árvore)\n",
        "    p = Puzzle(self.puzzle.board.copy())\n",
        "    p.move(self.children[i])\n",
        "\n",
        "    self.children[i] = Tree(self.children[i], p, self)"
      ],
      "execution_count": 3,
      "outputs": []
    },
    {
      "cell_type": "markdown",
      "metadata": {
        "id": "U3uIjxMP5Nv1"
      },
      "source": [
        "# Resolver o quebra-cabeças usando Buscas"
      ]
    },
    {
      "cell_type": "markdown",
      "metadata": {
        "id": "YIfQSJC0lI9f"
      },
      "source": [
        "## Gerar o caminho"
      ]
    },
    {
      "cell_type": "code",
      "metadata": {
        "id": "Ejsl49-8rJrt"
      },
      "source": [
        "from collections import deque"
      ],
      "execution_count": 4,
      "outputs": []
    },
    {
      "cell_type": "code",
      "metadata": {
        "id": "J1Iy3-L0DK3o"
      },
      "source": [
        "def create_path(node):\n",
        "  q = deque()\n",
        "  q.append(node)\n",
        "\n",
        "  while node.parent is not None:\n",
        "    node = node.parent\n",
        "    q.appendleft(node)\n",
        "\n",
        "  return q"
      ],
      "execution_count": 5,
      "outputs": []
    },
    {
      "cell_type": "markdown",
      "metadata": {
        "id": "zCCoey-J1U5t"
      },
      "source": [
        "## Busca usando A*"
      ]
    },
    {
      "cell_type": "code",
      "metadata": {
        "id": "CEG3hnOjpFw7"
      },
      "source": [
        "def a_star_search(tree):\n",
        "  open = []\n",
        "  closed = set()\n",
        "\n",
        "  open.append(tree)\n",
        "\n",
        "  while open:\n",
        "    open.sort(key=lambda x: x.f, reverse=True)\n",
        "\n",
        "    current_node = open.pop()\n",
        "\n",
        "    closed.add(current_node.puzzle.encode())\n",
        "\n",
        "    if current_node.puzzle.check_puzzle():\n",
        "      return current_node, create_path(current_node)\n",
        "    \n",
        "\n",
        "    for i in range(len(current_node.children)):\n",
        "      if type(current_node.children[i]) != Tree:\n",
        "        current_node.create_child(i)\n",
        "      c = current_node.children[i]\n",
        "\n",
        "      if c.puzzle.encode() in closed:\n",
        "        continue\n",
        "\n",
        "      for i, n in enumerate(open):\n",
        "        if n.puzzle.encode() == c.puzzle.encode():\n",
        "          if c.g < n.g:\n",
        "            open[i] = c\n",
        "\n",
        "          break\n",
        "\n",
        "      open.append(c)"
      ],
      "execution_count": 6,
      "outputs": []
    },
    {
      "cell_type": "code",
      "metadata": {
        "colab": {
          "base_uri": "https://localhost:8080/"
        },
        "id": "0HEWuTHJcfAH",
        "outputId": "cac78baf-30f9-4f3f-9052-f4d2259af26c"
      },
      "source": [
        "board = np.array([[1,2,3],[4,5,6],[7,8,-1]])\n",
        "\n",
        "p = Puzzle(board=board)\n",
        "t = Tree((-1,-1), p)\n",
        "\n",
        "p.print_board()\n",
        "\n",
        "n, path = a_star_search(t)\n",
        "\n",
        "print(\"\\nTamanho da solução: \", len(path))\n",
        "\n",
        "for p in path:\n",
        "  print(\"\\nPeça movida: \", p.movement)\n",
        "  p.puzzle.print_board()"
      ],
      "execution_count": 7,
      "outputs": [
        {
          "output_type": "stream",
          "text": [
            "[[ 1  2  3]\n",
            " [ 4  5  6]\n",
            " [ 7  8 -1]]\n",
            "\n",
            "Tamanho da solução:  1\n",
            "\n",
            "Peça movida:  (-1, -1)\n",
            "[[ 1  2  3]\n",
            " [ 4  5  6]\n",
            " [ 7  8 -1]]\n"
          ],
          "name": "stdout"
        }
      ]
    },
    {
      "cell_type": "code",
      "metadata": {
        "colab": {
          "base_uri": "https://localhost:8080/"
        },
        "id": "7SgxaCp3dKMG",
        "outputId": "59107ca6-482a-44f8-a393-a280c12a9ea7"
      },
      "source": [
        "board = np.array([[1,-1,3],[4,2,5],[7,8,6]])\n",
        "\n",
        "p = Puzzle(board=board)\n",
        "t = Tree((-1,-1), p)\n",
        "\n",
        "p.print_board()\n",
        "\n",
        "n, path = a_star_search(t)\n",
        "\n",
        "print(\"\\nTamanho da solução: \", len(path))\n",
        "\n",
        "for p in path:\n",
        "  print(\"\\nPeça movida: \", p.movement)\n",
        "  p.puzzle.print_board()"
      ],
      "execution_count": 8,
      "outputs": [
        {
          "output_type": "stream",
          "text": [
            "[[ 1 -1  3]\n",
            " [ 4  2  5]\n",
            " [ 7  8  6]]\n",
            "\n",
            "Tamanho da solução:  4\n",
            "\n",
            "Peça movida:  (-1, -1)\n",
            "[[ 1 -1  3]\n",
            " [ 4  2  5]\n",
            " [ 7  8  6]]\n",
            "\n",
            "Peça movida:  (1, 1)\n",
            "[[ 1  2  3]\n",
            " [ 4 -1  5]\n",
            " [ 7  8  6]]\n",
            "\n",
            "Peça movida:  (1, 2)\n",
            "[[ 1  2  3]\n",
            " [ 4  5 -1]\n",
            " [ 7  8  6]]\n",
            "\n",
            "Peça movida:  (2, 2)\n",
            "[[ 1  2  3]\n",
            " [ 4  5  6]\n",
            " [ 7  8 -1]]\n"
          ],
          "name": "stdout"
        }
      ]
    },
    {
      "cell_type": "code",
      "metadata": {
        "id": "-GOGIzQRHDx1",
        "colab": {
          "base_uri": "https://localhost:8080/"
        },
        "outputId": "870825fa-5f82-46b7-a114-098ad4719524"
      },
      "source": [
        "p = Puzzle(min_moves=25, max_moves=30)\n",
        "t = Tree((-1,-1), p)\n",
        "\n",
        "p.print_board()\n",
        "\n",
        "n, path = a_star_search(t)"
      ],
      "execution_count": 9,
      "outputs": [
        {
          "output_type": "stream",
          "text": [
            "[[ 1  5  2]\n",
            " [-1  4  3]\n",
            " [ 7  8  6]]\n"
          ],
          "name": "stdout"
        }
      ]
    },
    {
      "cell_type": "code",
      "metadata": {
        "colab": {
          "base_uri": "https://localhost:8080/"
        },
        "id": "2FmEqHtSTXiM",
        "outputId": "4f15e743-bef4-40f2-aedb-fe7b385d7a82"
      },
      "source": [
        "print(\"Tamanho da solução: \", len(path))\n",
        "\n",
        "for p in path:\n",
        "  print(\"\\nPeça movida: \", p.movement)\n",
        "  p.puzzle.print_board()"
      ],
      "execution_count": 10,
      "outputs": [
        {
          "output_type": "stream",
          "text": [
            "Tamanho da solução:  6\n",
            "\n",
            "Peça movida:  (-1, -1)\n",
            "[[ 1  5  2]\n",
            " [-1  4  3]\n",
            " [ 7  8  6]]\n",
            "\n",
            "Peça movida:  (1, 1)\n",
            "[[ 1  5  2]\n",
            " [ 4 -1  3]\n",
            " [ 7  8  6]]\n",
            "\n",
            "Peça movida:  (0, 1)\n",
            "[[ 1 -1  2]\n",
            " [ 4  5  3]\n",
            " [ 7  8  6]]\n",
            "\n",
            "Peça movida:  (0, 2)\n",
            "[[ 1  2 -1]\n",
            " [ 4  5  3]\n",
            " [ 7  8  6]]\n",
            "\n",
            "Peça movida:  (1, 2)\n",
            "[[ 1  2  3]\n",
            " [ 4  5 -1]\n",
            " [ 7  8  6]]\n",
            "\n",
            "Peça movida:  (2, 2)\n",
            "[[ 1  2  3]\n",
            " [ 4  5  6]\n",
            " [ 7  8 -1]]\n"
          ],
          "name": "stdout"
        }
      ]
    },
    {
      "cell_type": "markdown",
      "metadata": {
        "id": "rXU5HkCd1ZPu"
      },
      "source": [
        "## Discusta sobre o desempenho dos métodos em questões de:\n",
        "\n",
        "\n",
        "1.   Consumo de memória\n",
        "2.   Processamento\n",
        "\n"
      ]
    },
    {
      "cell_type": "markdown",
      "metadata": {
        "id": "FJ1-EI9QiRXa"
      },
      "source": [
        "Consumo de memória: O algoritmo A* consegue obter a solução com consumo de memória geralmente menor que a busca em largura/em profundidade.\n",
        "\n",
        "Embora precise armazenar todos os vizinhos dos nodos que já foram abertos na memória, ainda assim geralmente possui menor custo de memória quando comparado com a busca em profundidade, pois encontra a solução mais rasa, ao invés de buscar muito profundamente na árvore.\n",
        "\n",
        "Comparando com a busca em largura, como ambas buscas vão até a mesma profundidade na árvore (onde se encontra a solução ótima), o custo é menor, porque somente os filhos dos nodos mais próximos da solução acabam sendo abertos, e não todos em cada profundidade."
      ]
    },
    {
      "cell_type": "markdown",
      "metadata": {
        "id": "TjqJ6VPnjH_4"
      },
      "source": [
        "Processamento: O A* tem um desempenho muito melhor que a busca em profundidade (na maioria dos casos), porque expande menos nodos que se afastam da solução, e acaba não indo para caminhos extremamente longos de movimentos aleatórios.\n",
        "\n",
        "Comparado com a busca em largura, o A* deveria executar mais rapidamente, pelo mesmo motivo do custo de memória...\n",
        "\n",
        "Porém, principalmente nas buscas em que é necessário piorar o estado muitas vezes para alcançar o resultado, teve desempenho pior que busca em largura. Possivelmente outra forma de calcular H resolveria."
      ]
    }
  ]
}