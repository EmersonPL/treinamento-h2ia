{
  "nbformat": 4,
  "nbformat_minor": 0,
  "metadata": {
    "colab": {
      "name": "KNN.ipynb",
      "provenance": [],
      "collapsed_sections": []
    },
    "kernelspec": {
      "name": "python3",
      "display_name": "Python 3"
    },
    "language_info": {
      "name": "python"
    }
  },
  "cells": [
    {
      "cell_type": "code",
      "metadata": {
        "id": "F1RU2dRLljyq"
      },
      "source": [
        "from sklearn.datasets import load_iris\n",
        "\n",
        "import matplotlib.pyplot as plt\n",
        "import pandas as pd\n",
        "import numpy as np\n",
        "\n",
        "import seaborn as sn\n",
        "\n",
        "import math"
      ],
      "execution_count": 69,
      "outputs": []
    },
    {
      "cell_type": "code",
      "metadata": {
        "id": "Sq1vZNy1jMwh"
      },
      "source": [
        "from sklearn.model_selection import train_test_split\n",
        "\n",
        "from sklearn.metrics import accuracy_score, confusion_matrix, plot_confusion_matrix"
      ],
      "execution_count": 51,
      "outputs": []
    },
    {
      "cell_type": "code",
      "metadata": {
        "id": "CA0RFBjyYkah"
      },
      "source": [
        "x, y = load_iris(return_X_y=True)"
      ],
      "execution_count": 7,
      "outputs": []
    },
    {
      "cell_type": "code",
      "metadata": {
        "id": "7loSajjUYquk"
      },
      "source": [
        "class KNN:\n",
        "  def __init__(self, k, X, y):\n",
        "    self.k = k\n",
        "    self.X = X\n",
        "    self.y = y\n",
        "\n",
        "  def predict(self, X):\n",
        "    distances = self.calculate_distances(X)\n",
        "\n",
        "    k_nearest = distances.argsort()[:self.k]\n",
        "    k_nearest = self.y[k_nearest].tolist()\n",
        "\n",
        "    return max(set(k_nearest), key=k_nearest.count)\n",
        "\n",
        "\n",
        "  def calculate_distances(self, X):\n",
        "    distances = np.zeros(self.X.shape[0])\n",
        "    for i in range(self.X.shape[0]):\n",
        "      distances[i] = math.sqrt(sum([(p - q)**2 for p, q in zip(X, self.X[i])]))\n",
        "\n",
        "    return distances"
      ],
      "execution_count": 10,
      "outputs": []
    },
    {
      "cell_type": "code",
      "metadata": {
        "id": "ft6_1WpHe28H"
      },
      "source": [
        "x_train, x_test, y_train, y_test = train_test_split(x, y, test_size=0.2)"
      ],
      "execution_count": 17,
      "outputs": []
    },
    {
      "cell_type": "code",
      "metadata": {
        "id": "d2I3zBijagQ2"
      },
      "source": [
        "model = KNN(5, x_train, y_train)"
      ],
      "execution_count": 82,
      "outputs": []
    },
    {
      "cell_type": "code",
      "metadata": {
        "id": "bSVlxUcufI63"
      },
      "source": [
        "predictions = []\n",
        "for x in x_test:\n",
        "  predictions.append(model.predict(x))"
      ],
      "execution_count": 83,
      "outputs": []
    },
    {
      "cell_type": "code",
      "metadata": {
        "id": "a-oOh-S_hKkU"
      },
      "source": [
        "acc = accuracy_score(y_test, predictions)"
      ],
      "execution_count": 84,
      "outputs": []
    },
    {
      "cell_type": "code",
      "metadata": {
        "id": "rahbPUBKhM4t"
      },
      "source": [
        "cm = confusion_matrix(y_test, predictions)\n",
        "df_cm = pd.DataFrame(cm, index=[i for i in ['Setosa', 'Versicolor', 'Virginica']],\n",
        "                      columns=[i for i in ['Setosa', 'Versicolor', 'Virginica']])"
      ],
      "execution_count": 85,
      "outputs": []
    },
    {
      "cell_type": "code",
      "metadata": {
        "colab": {
          "base_uri": "https://localhost:8080/",
          "height": 464
        },
        "id": "XoSubagtnmEz",
        "outputId": "6be8a08e-53b4-49c4-a113-0426702bc514"
      },
      "source": [
        "print(\"A Acurácia é de: {}%\".format(acc * 100))\n",
        "plt.figure(figsize=(7,7))\n",
        "sn.heatmap(df_cm, annot=True)\n",
        "\n",
        "plt.ylabel('True values')\n",
        "plt.xlabel('Predicted Values')\n",
        "\n",
        "plt.show()"
      ],
      "execution_count": 86,
      "outputs": [
        {
          "output_type": "stream",
          "name": "stdout",
          "text": [
            "A Acurácia é de: 96.66666666666667%\n"
          ]
        },
        {
          "output_type": "display_data",
          "data": {
            "image/png": "[encoded data removed]",
            "text/plain": [
              "<Figure size 504x504 with 2 Axes>"
            ]
          },
          "metadata": {
            "needs_background": "light"
          }
        }
      ]
    },
    {
      "cell_type": "code",
      "metadata": {
        "id": "duJ9Ywsqr2TH"
      },
      "source": [
        ""
      ],
      "execution_count": null,
      "outputs": []
    }
  ]
}