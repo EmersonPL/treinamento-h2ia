{
  "nbformat": 4,
  "nbformat_minor": 0,
  "metadata": {
    "colab": {
      "name": "K_means.ipynb",
      "provenance": [],
      "collapsed_sections": []
    },
    "kernelspec": {
      "name": "python3",
      "display_name": "Python 3"
    },
    "language_info": {
      "name": "python"
    }
  },
  "cells": [
    {
      "cell_type": "code",
      "metadata": {
        "id": "l7l1nhCvXGbY"
      },
      "source": [
        "import math\n",
        "import numpy as np\n",
        "import pandas as pd\n",
        "import matplotlib.pyplot as plt\n",
        "\n",
        "from sklearn.datasets import load_iris\n",
        "from sklearn.decomposition import PCA\n",
        "\n",
        "from random import sample"
      ],
      "execution_count": 3,
      "outputs": []
    },
    {
      "cell_type": "code",
      "metadata": {
        "id": "fqE7ZVlzXLdP"
      },
      "source": [
        "iris = load_iris()"
      ],
      "execution_count": 4,
      "outputs": []
    },
    {
      "cell_type": "code",
      "metadata": {
        "id": "nLAEiTzUW44s"
      },
      "source": [
        "class k_means:\n",
        "  def __init__(self, num_clusters=3):\n",
        "    self.x = X\n",
        "    self.num_clusters = num_clusters\n",
        "\n",
        "  def fit(self, X):\n",
        "    self.cluster_centers = self.create_random_clusters()\n",
        "\n",
        "    end = False\n",
        "\n",
        "    while not end:\n",
        "      distances = self.calculate_distances(X)\n",
        "      self.nearest_cluster = self.assign_to_cluster(distances)\n",
        "      end = self.calculate_new_cluster_pos(X)\n",
        "     \n",
        "\n",
        "  def create_random_clusters(self):\n",
        "    r = sample(range(self.x.shape[0]), self.num_clusters)\n",
        "\n",
        "    clusters = np.array(X[r])\n",
        "    return clusters\n",
        "\n",
        "  def calculate_distances(self, X):\n",
        "    distances = np.zeros((X.shape[0], self.num_clusters))\n",
        "    for i, x in enumerate(X):\n",
        "      for j in range(self.num_clusters):\n",
        "        distances[i][j] = math.sqrt(sum([(p - q)**2 for p, q in zip(x, self.cluster_centers[j])]))\n",
        "\n",
        "    return distances\n",
        "\n",
        "  def assign_to_cluster(self, distances):\n",
        "    return np.argmin(distances, axis=1)\n",
        "\n",
        "  def calculate_new_cluster_pos(self, X):\n",
        "    c = np.zeros(self.cluster_centers.shape)\n",
        "    for i in range(self.num_clusters):\n",
        "      points = X[np.where(self.nearest_cluster==i)]\n",
        "\n",
        "      for j in range(X.shape[1]):\n",
        "        c[i, j] = sum(points[:, j]) / points.shape[0]\n",
        "\n",
        "    if not np.array_equal(c, self.cluster_centers):\n",
        "      self.cluster_centers = c\n",
        "      return False\n",
        "\n",
        "    return True  "
      ],
      "execution_count": 5,
      "outputs": []
    },
    {
      "cell_type": "code",
      "metadata": {
        "id": "0z-SF-bNJ27l"
      },
      "source": [
        "X = iris.data\n",
        "\n",
        "k = k_means(num_clusters=3)\n",
        "k.fit(X)"
      ],
      "execution_count": 6,
      "outputs": []
    },
    {
      "cell_type": "code",
      "metadata": {
        "colab": {
          "base_uri": "https://localhost:8080/"
        },
        "id": "Va_m0pfsL4cR",
        "outputId": "06291886-a844-4f01-eeed-d8117b8fe227"
      },
      "source": [
        "k.cluster_centers"
      ],
      "execution_count": 9,
      "outputs": [
        {
          "output_type": "execute_result",
          "data": {
            "text/plain": [
              "array([[5.88360656, 2.74098361, 4.38852459, 1.43442623],\n",
              "       [5.006     , 3.428     , 1.462     , 0.246     ],\n",
              "       [6.85384615, 3.07692308, 5.71538462, 2.05384615]])"
            ]
          },
          "metadata": {},
          "execution_count": 9
        }
      ]
    },
    {
      "cell_type": "code",
      "metadata": {
        "colab": {
          "base_uri": "https://localhost:8080/"
        },
        "id": "Gx1SytfiQZAm",
        "outputId": "42a92ec9-f250-43d5-b9ad-24052bad0d90"
      },
      "source": [
        "k.nearest_cluster"
      ],
      "execution_count": 10,
      "outputs": [
        {
          "output_type": "execute_result",
          "data": {
            "text/plain": [
              "array([1, 1, 1, 1, 1, 1, 1, 1, 1, 1, 1, 1, 1, 1, 1, 1, 1, 1, 1, 1, 1, 1,\n",
              "       1, 1, 1, 1, 1, 1, 1, 1, 1, 1, 1, 1, 1, 1, 1, 1, 1, 1, 1, 1, 1, 1,\n",
              "       1, 1, 1, 1, 1, 1, 2, 0, 2, 0, 0, 0, 0, 0, 0, 0, 0, 0, 0, 0, 0, 0,\n",
              "       0, 0, 0, 0, 0, 0, 0, 0, 0, 0, 0, 2, 0, 0, 0, 0, 0, 0, 0, 0, 0, 0,\n",
              "       0, 0, 0, 0, 0, 0, 0, 0, 0, 0, 0, 0, 2, 0, 2, 2, 2, 2, 0, 2, 2, 2,\n",
              "       2, 2, 2, 0, 0, 2, 2, 2, 2, 0, 2, 0, 2, 0, 2, 2, 0, 0, 2, 2, 2, 2,\n",
              "       2, 0, 2, 2, 2, 2, 0, 2, 2, 2, 0, 2, 2, 2, 0, 2, 2, 0])"
            ]
          },
          "metadata": {},
          "execution_count": 10
        }
      ]
    },
    {
      "cell_type": "markdown",
      "metadata": {
        "id": "T5zNMi-J04Ny"
      },
      "source": [
        "Resultado:"
      ]
    },
    {
      "cell_type": "code",
      "metadata": {
        "colab": {
          "base_uri": "https://localhost:8080/",
          "height": 287
        },
        "id": "1VbMesd1YIr-",
        "outputId": "bb1ed6a0-5e5f-4eb2-e46c-43e571d22b96"
      },
      "source": [
        "pca = PCA(n_components=2)\n",
        "pca = pca.fit_transform(iris.data)\n",
        "\n",
        "x = pca[:,0]\n",
        "y = pca[:,1]\n",
        "\n",
        "colors = ['green', 'blue', 'red']\n",
        "c = []\n",
        "\n",
        "c = [colors[x] for x in k.nearest_cluster]\n",
        "\n",
        "plt.scatter(x, y, c=c)"
      ],
      "execution_count": 20,
      "outputs": [
        {
          "output_type": "execute_result",
          "data": {
            "text/plain": [
              "<matplotlib.collections.PathCollection at 0x7f6d97e3b8d0>"
            ]
          },
          "metadata": {},
          "execution_count": 20
        },
        {
          "output_type": "display_data",
          "data": {
            "image/png": "[encoded data removed]",
            "text/plain": [
              "<Figure size 432x288 with 1 Axes>"
            ]
          },
          "metadata": {
            "needs_background": "light"
          }
        }
      ]
    },
    {
      "cell_type": "markdown",
      "metadata": {
        "id": "F5YyOOov06eZ"
      },
      "source": [
        "Resultado Esperado"
      ]
    },
    {
      "cell_type": "code",
      "metadata": {
        "colab": {
          "base_uri": "https://localhost:8080/",
          "height": 287
        },
        "id": "eI-To5qKzrL6",
        "outputId": "3f508d4a-cda1-428a-bdcd-d98e4f90995d"
      },
      "source": [
        "pca = PCA(n_components=2)\n",
        "pca = pca.fit_transform(iris.data)\n",
        "\n",
        "x = pca[:,0]\n",
        "y = pca[:,1]\n",
        "\n",
        "colors = ['green', 'blue', 'red']\n",
        "c = []\n",
        "\n",
        "c = [colors[x] for x in iris.target]\n",
        "\n",
        "plt.scatter(x, y, c=c)"
      ],
      "execution_count": 25,
      "outputs": [
        {
          "output_type": "execute_result",
          "data": {
            "text/plain": [
              "<matplotlib.collections.PathCollection at 0x7f6d97d36a90>"
            ]
          },
          "metadata": {},
          "execution_count": 25
        },
        {
          "output_type": "display_data",
          "data": {
            "image/png": "[encoded data removed]",
            "text/plain": [
              "<Figure size 432x288 with 1 Axes>"
            ]
          },
          "metadata": {
            "needs_background": "light"
          }
        }
      ]
    },
    {
      "cell_type": "code",
      "metadata": {
        "id": "e5qu0X4K0hgo"
      },
      "source": [
        ""
      ],
      "execution_count": null,
      "outputs": []
    }
  ]
}