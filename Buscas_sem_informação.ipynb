{
  "nbformat": 4,
  "nbformat_minor": 0,
  "metadata": {
    "colab": {
      "name": "Buscas_sem_informação.ipynb",
      "provenance": [],
      "collapsed_sections": []
    },
    "kernelspec": {
      "display_name": "Python 3",
      "language": "python",
      "name": "python3"
    },
    "language_info": {
      "codemirror_mode": {
        "name": "ipython",
        "version": 3
      },
      "file_extension": ".py",
      "mimetype": "text/x-python",
      "name": "python",
      "nbconvert_exporter": "python",
      "pygments_lexer": "ipython3",
      "version": "3.7.4"
    }
  },
  "cells": [
    {
      "cell_type": "markdown",
      "metadata": {
        "id": "21uUELma0562"
      },
      "source": [
        "# O Problema\n",
        "Sliding Puzzle - Bloco Deslizante"
      ]
    },
    {
      "cell_type": "code",
      "metadata": {
        "colab": {
          "base_uri": "https://localhost:8080/",
          "height": 218
        },
        "id": "duRbJW3rz01L",
        "outputId": "0a34675d-131b-4a92-fa85-f24d4c0f00fa"
      },
      "source": [
        "# !wget -qq https://miro.medium.com/max/700/1*W7jg4GmEjGBypd9WPktasQ.gif\n",
        "from IPython.display import Image\n",
        "Image(url='https://miro.medium.com/max/700/1*W7jg4GmEjGBypd9WPktasQ.gif',width=200)"
      ],
      "execution_count": 3,
      "outputs": [
        {
          "output_type": "execute_result",
          "data": {
            "text/html": [
              "<img src=\"https://miro.medium.com/max/700/1*W7jg4GmEjGBypd9WPktasQ.gif\" width=\"200\"/>"
            ],
            "text/plain": [
              "<IPython.core.display.Image object>"
            ]
          },
          "metadata": {
            "tags": []
          },
          "execution_count": 3
        }
      ]
    },
    {
      "cell_type": "code",
      "metadata": {
        "id": "-QeMzzy81dMa"
      },
      "source": [
        "import numpy as np\n",
        "\n",
        "class Puzzle:\n",
        "  def __init__(self, board=None, min_moves=5, max_moves=20):  \n",
        "    if board is None:\n",
        "      self.board = np.array([[1,2,3],[4,5,6],[7,8,-1]])\n",
        "      self.empty = (2,2)\n",
        "\n",
        "      self.shuffle(min_moves, max_moves)\n",
        "    else:\n",
        "      self.board = board\n",
        "      e = np.where(board == -1)\n",
        "      self.empty = (e[0][0], e[1][0])\n",
        "        \n",
        "  def print_board(self):\n",
        "    print(self.board)\n",
        "        \n",
        "  def get_allowed_moves(self):\n",
        "    allowed_moves = []\n",
        "    \n",
        "    allowed_moves += self.get_vertical_moves()\n",
        "    allowed_moves += self.get_horizontal_moves()\n",
        "\n",
        "    np.random.shuffle(allowed_moves)     # usando um 'shuffle' pra evitar loops na busca em profundidade\n",
        "    return allowed_moves\n",
        "\n",
        "    \n",
        "  def get_vertical_moves(self):\n",
        "    allowed_moves = []\n",
        "    if self.empty[0] > 0:\n",
        "      allowed_moves.append((self.empty[0] - 1, self.empty[1])) # down\n",
        "    if self.empty[0] < len(self.board) - 1:\n",
        "      allowed_moves.append((self.empty[0] + 1, self.empty[1])) # up\n",
        "        \n",
        "    return allowed_moves\n",
        "          \n",
        "  def get_horizontal_moves(self):\n",
        "    allowed_moves = []\n",
        "    if self.empty[1] > 0:\n",
        "      allowed_moves.append((self.empty[0], self.empty[1] - 1)) # right\n",
        "    if self.empty[1] < len(self.board) - 1:\n",
        "      allowed_moves.append((self.empty[0], self.empty[1] + 1)) # left\n",
        "          \n",
        "    return allowed_moves\n",
        "  \n",
        "\n",
        "    \n",
        "  def move(self, piece_to_move):\n",
        "    self.board[self.empty] = self.board[piece_to_move]\n",
        "    self.board[piece_to_move] = -1\n",
        "      \n",
        "    self.empty = piece_to_move\n",
        "        \n",
        "    \n",
        "    \n",
        "  def check_puzzle(self):\n",
        "    last = 0\n",
        "    for i, lin in enumerate(self.board):\n",
        "      for j, col in enumerate(lin):\n",
        "        # Se chegar na última posição, tá ordenado\n",
        "        if i == len(self.board) - 1 and  j == len(self.board) - 1:\n",
        "          return True\n",
        "              \n",
        "        # Se alguma peça é menor que a anterior, não tá ordenado\n",
        "        if col < last:\n",
        "          return False\n",
        "        last = col\n",
        "                \n",
        "                \n",
        "  def shuffle(self, min_moves, max_moves):\n",
        "    rng = np.random.default_rng()\n",
        "    num_of_moves = rng.integers(min_moves, max_moves)\n",
        "\n",
        "    for i in range(num_of_moves):\n",
        "      allowed_moves = self.get_allowed_moves()\n",
        "      move = rng.integers(0, len(allowed_moves))\n",
        "\n",
        "      self.move((allowed_moves[move]))\n"
      ],
      "execution_count": 4,
      "outputs": []
    },
    {
      "cell_type": "code",
      "metadata": {
        "id": "O2c84Mpw1dMc"
      },
      "source": [
        "class Tree:\n",
        "  def __init__(self, movement, puzzle, parent=None):\n",
        "    self.movement = movement\n",
        "    self.puzzle = puzzle\n",
        "    self.children = puzzle.get_allowed_moves()\n",
        "    self.parent = parent\n",
        "\n",
        "    self.visited = False\n",
        "\n",
        "  def create_child(self, i): # cria o filho i (adiciona o puzzle, executa o movimento, cria a árvore)\n",
        "    p = Puzzle(self.puzzle.board.copy())\n",
        "    p.move(self.children[i])\n",
        "\n",
        "    self.children[i] = Tree(self.children[i], p, self)"
      ],
      "execution_count": 5,
      "outputs": []
    },
    {
      "cell_type": "markdown",
      "metadata": {
        "id": "U3uIjxMP5Nv1"
      },
      "source": [
        "# Resolver o quebra-cabeças usando Buscas"
      ]
    },
    {
      "cell_type": "code",
      "metadata": {
        "id": "Ejsl49-8rJrt"
      },
      "source": [
        "from collections import deque"
      ],
      "execution_count": 6,
      "outputs": []
    },
    {
      "cell_type": "code",
      "metadata": {
        "id": "J1Iy3-L0DK3o"
      },
      "source": [
        "def create_path(node):\n",
        "  q = deque()\n",
        "  q.append(node)\n",
        "\n",
        "  while node.parent is not None:\n",
        "    node = node.parent\n",
        "    q.appendleft(node)\n",
        "\n",
        "  return q"
      ],
      "execution_count": 7,
      "outputs": []
    },
    {
      "cell_type": "markdown",
      "metadata": {
        "id": "o6ZClGCC1RxB"
      },
      "source": [
        "## Busca em largura"
      ]
    },
    {
      "cell_type": "code",
      "metadata": {
        "id": "WwaT_l3-v2xt"
      },
      "source": [
        "def bf_search(tree):\n",
        "  q = deque()\n",
        "  q.append(tree)\n",
        "\n",
        "  while q: # while q is not empty\n",
        "    node = q.popleft()\n",
        "\n",
        "    for i, c in enumerate(node.children):\n",
        "      node.create_child(i)\n",
        "      q.append(node.children[i])\n",
        "\n",
        "      if node.children[i].puzzle.check_puzzle():\n",
        "        return node.children[i], create_path(node.children[i])"
      ],
      "execution_count": 8,
      "outputs": []
    },
    {
      "cell_type": "code",
      "metadata": {
        "id": "KjHs-j7DM-lA",
        "colab": {
          "base_uri": "https://localhost:8080/"
        },
        "outputId": "838410e6-b4d4-41ba-e869-4e23930db086"
      },
      "source": [
        "p = Puzzle(min_moves=10, max_moves=15)\n",
        "t = Tree((-1,-1), p)\n",
        "\n",
        "p.print_board()\n",
        "\n",
        "n, path = bf_search(t)"
      ],
      "execution_count": 9,
      "outputs": [
        {
          "output_type": "stream",
          "text": [
            "[[ 1 -1  3]\n",
            " [ 4  2  6]\n",
            " [ 7  5  8]]\n"
          ],
          "name": "stdout"
        }
      ]
    },
    {
      "cell_type": "code",
      "metadata": {
        "id": "TlaBIx-VfxBK",
        "colab": {
          "base_uri": "https://localhost:8080/"
        },
        "outputId": "f3cc14ee-bc03-4008-a9c8-196f58a38959"
      },
      "source": [
        "for p in path:\n",
        "  p.puzzle.print_board()"
      ],
      "execution_count": 10,
      "outputs": [
        {
          "output_type": "stream",
          "text": [
            "[[ 1 -1  3]\n",
            " [ 4  2  6]\n",
            " [ 7  5  8]]\n",
            "[[ 1  2  3]\n",
            " [ 4 -1  6]\n",
            " [ 7  5  8]]\n",
            "[[ 1  2  3]\n",
            " [ 4  5  6]\n",
            " [ 7 -1  8]]\n",
            "[[ 1  2  3]\n",
            " [ 4  5  6]\n",
            " [ 7  8 -1]]\n"
          ],
          "name": "stdout"
        }
      ]
    },
    {
      "cell_type": "markdown",
      "metadata": {
        "id": "zCCoey-J1U5t"
      },
      "source": [
        "## Busca em Profundidade"
      ]
    },
    {
      "cell_type": "code",
      "metadata": {
        "id": "xzAOCpyUDGew"
      },
      "source": [
        "def df_search(node):\n",
        "  q = deque()\n",
        "  node.visited = True\n",
        "  q.append(node)\n",
        "\n",
        "  while q:\n",
        "    node = q[-1]\n",
        "\n",
        "    for i in range(len(node.children)):\n",
        "      if isinstance(node.children[i], tuple): \n",
        "        node.create_child(i)\n",
        "      n = node.children[i]\n",
        "\n",
        "      if not n.visited:\n",
        "        q.append(n)\n",
        "        n.visited = True\n",
        "\n",
        "        if n.puzzle.check_puzzle():\n",
        "          return n, create_path(n)\n",
        "\n",
        "        break\n",
        "\n",
        "      if i == len(node.children - 1):\n",
        "        q.pop()"
      ],
      "execution_count": 11,
      "outputs": []
    },
    {
      "cell_type": "code",
      "metadata": {
        "colab": {
          "base_uri": "https://localhost:8080/"
        },
        "id": "-GOGIzQRHDx1",
        "outputId": "355988d7-b555-4656-b571-0e134ea6e815"
      },
      "source": [
        "p = Puzzle(min_moves=3, max_moves=5)\n",
        "t = Tree((-1,-1), p)\n",
        "\n",
        "p.print_board()\n",
        "\n",
        "n, path = df_search(t)"
      ],
      "execution_count": 12,
      "outputs": [
        {
          "output_type": "stream",
          "text": [
            "[[ 1  2  3]\n",
            " [ 4  5  6]\n",
            " [ 7 -1  8]]\n"
          ],
          "name": "stdout"
        }
      ]
    },
    {
      "cell_type": "code",
      "metadata": {
        "colab": {
          "base_uri": "https://localhost:8080/"
        },
        "id": "LLIweMk1InUL",
        "outputId": "8b02e648-94be-420b-934a-66d79f37d36b"
      },
      "source": [
        "len(path)"
      ],
      "execution_count": 13,
      "outputs": [
        {
          "output_type": "execute_result",
          "data": {
            "text/plain": [
              "4"
            ]
          },
          "metadata": {
            "tags": []
          },
          "execution_count": 13
        }
      ]
    },
    {
      "cell_type": "code",
      "metadata": {
        "id": "3eOWNnPvHH1l",
        "colab": {
          "base_uri": "https://localhost:8080/"
        },
        "outputId": "6376fd0d-7028-4176-c465-d146f7d43330"
      },
      "source": [
        "for p in path:\n",
        "  p.puzzle.print_board()"
      ],
      "execution_count": 14,
      "outputs": [
        {
          "output_type": "stream",
          "text": [
            "[[ 1  2  3]\n",
            " [ 4  5  6]\n",
            " [ 7 -1  8]]\n",
            "[[ 1  2  3]\n",
            " [ 4  5  6]\n",
            " [-1  7  8]]\n",
            "[[ 1  2  3]\n",
            " [ 4  5  6]\n",
            " [ 7 -1  8]]\n",
            "[[ 1  2  3]\n",
            " [ 4  5  6]\n",
            " [ 7  8 -1]]\n"
          ],
          "name": "stdout"
        }
      ]
    },
    {
      "cell_type": "markdown",
      "metadata": {
        "id": "rXU5HkCd1ZPu"
      },
      "source": [
        "## Discusta sobre o desempenho dos métodos em questões de:\n",
        "\n",
        "\n",
        "1.   Consumo de memória\n",
        "2.   Processamento\n",
        "\n"
      ]
    },
    {
      "cell_type": "markdown",
      "metadata": {
        "id": "GMVJsOVVl5Ah"
      },
      "source": [
        "Busca em Largura: Gasta mais memória, porque precisa gerar todos movimentos, de todos ramos, feitos até a profundidade em que encontrar a melhor solução.\n",
        "    A vantagem é que, como explora todos os movimentos, sempre vai encontrar o melhor caminho."
      ]
    },
    {
      "cell_type": "markdown",
      "metadata": {
        "id": "g8d733Liq709"
      },
      "source": [
        "Busca em Profundidade: (Em teoria) gasta menos memória, já que armazena somente os movimentos executados na busca atual... Porém, como não possui uma forma de armazenar os estados já alcançados, ele não garante que não ocorrerão loops, podendo não obter resultado. \n",
        "    Caso encontre uma solução, não garante que é a melhor (com menor número de passos executados)\n",
        "\n",
        "Para garantir que sempre será encontrada alguma solução, é necessário armazenar todos estados já encontrados."
      ]
    },
    {
      "cell_type": "code",
      "metadata": {
        "id": "VFeDxQPWGUwf"
      },
      "source": [
        ""
      ],
      "execution_count": null,
      "outputs": []
    }
  ]
}