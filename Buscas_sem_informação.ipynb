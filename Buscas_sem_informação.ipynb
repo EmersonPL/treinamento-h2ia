{
  "nbformat": 4,
  "nbformat_minor": 0,
  "metadata": {
    "colab": {
      "name": "Buscas_sem_informação.ipynb",
      "provenance": [],
      "collapsed_sections": []
    },
    "kernelspec": {
      "display_name": "Python 3",
      "language": "python",
      "name": "python3"
    },
    "language_info": {
      "codemirror_mode": {
        "name": "ipython",
        "version": 3
      },
      "file_extension": ".py",
      "mimetype": "text/x-python",
      "name": "python",
      "nbconvert_exporter": "python",
      "pygments_lexer": "ipython3",
      "version": "3.7.4"
    }
  },
  "cells": [
    {
      "cell_type": "markdown",
      "metadata": {
        "id": "21uUELma0562"
      },
      "source": [
        "# O Problema\n",
        "Sliding Puzzle - Bloco Deslizante"
      ]
    },
    {
      "cell_type": "code",
      "metadata": {
        "colab": {
          "base_uri": "https://localhost:8080/",
          "height": 218
        },
        "id": "duRbJW3rz01L",
        "outputId": "6ebe1b07-ba39-45a1-a033-dc58d1a7dfec"
      },
      "source": [
        "# !wget -qq https://miro.medium.com/max/700/1*W7jg4GmEjGBypd9WPktasQ.gif\n",
        "from IPython.display import Image\n",
        "Image(url='https://miro.medium.com/max/700/1*W7jg4GmEjGBypd9WPktasQ.gif',width=200)"
      ],
      "execution_count": 1,
      "outputs": [
        {
          "output_type": "execute_result",
          "data": {
            "text/html": [
              "<img src=\"https://miro.medium.com/max/700/1*W7jg4GmEjGBypd9WPktasQ.gif\" width=\"200\"/>"
            ],
            "text/plain": [
              "<IPython.core.display.Image object>"
            ]
          },
          "metadata": {
            "tags": []
          },
          "execution_count": 1
        }
      ]
    },
    {
      "cell_type": "code",
      "metadata": {
        "id": "-QeMzzy81dMa"
      },
      "source": [
        "import numpy as np\n",
        "\n",
        "class Puzzle:\n",
        "  def __init__(self, board=None, min_moves=5, max_moves=20):  \n",
        "    if board is None:\n",
        "      self.board = np.array([[1,2,3],[4,5,6],[7,8,-1]])\n",
        "      self.empty = (2,2)\n",
        "\n",
        "      self.shuffle(min_moves, max_moves)\n",
        "    else:\n",
        "      self.board = board\n",
        "      e = np.where(board == -1)\n",
        "      self.empty = (e[0][0], e[1][0])\n",
        "\n",
        "\n",
        "  def encode(self):\n",
        "    return np.array2string(self.board.flatten(), separator='')\n",
        "        \n",
        "  def print_board(self):\n",
        "    print(self.board)\n",
        "        \n",
        "  def get_allowed_moves(self):\n",
        "    allowed_moves = []\n",
        "    \n",
        "    allowed_moves += self.get_vertical_moves()\n",
        "    allowed_moves += self.get_horizontal_moves()\n",
        "\n",
        "    return allowed_moves\n",
        "\n",
        "    \n",
        "  def get_vertical_moves(self):\n",
        "    allowed_moves = []\n",
        "    if self.empty[0] > 0:\n",
        "      allowed_moves.append((self.empty[0] - 1, self.empty[1])) # down\n",
        "    if self.empty[0] < len(self.board) - 1:\n",
        "      allowed_moves.append((self.empty[0] + 1, self.empty[1])) # up\n",
        "        \n",
        "    return allowed_moves\n",
        "          \n",
        "  def get_horizontal_moves(self):\n",
        "    allowed_moves = []\n",
        "    if self.empty[1] > 0:\n",
        "      allowed_moves.append((self.empty[0], self.empty[1] - 1)) # right\n",
        "    if self.empty[1] < len(self.board) - 1:\n",
        "      allowed_moves.append((self.empty[0], self.empty[1] + 1)) # left\n",
        "          \n",
        "    return allowed_moves\n",
        "  \n",
        "\n",
        "    \n",
        "  def move(self, piece_to_move):\n",
        "    self.board[self.empty] = self.board[piece_to_move]\n",
        "    self.board[piece_to_move] = -1\n",
        "      \n",
        "    self.empty = piece_to_move\n",
        "        \n",
        "    \n",
        "    \n",
        "  def check_puzzle(self):\n",
        "    if np.array_equal(self.board, np.array([[1,2,3],[4,5,6],[7,8,-1]])): \n",
        "      return True\n",
        "    \n",
        "    return False\n",
        "\n",
        "\n",
        "                \n",
        "                \n",
        "  def shuffle(self, min_moves, max_moves):\n",
        "    rng = np.random.default_rng()\n",
        "    num_of_moves = rng.integers(min_moves, max_moves)\n",
        "\n",
        "    for i in range(num_of_moves):\n",
        "      allowed_moves = self.get_allowed_moves()\n",
        "      move = rng.integers(0, len(allowed_moves))\n",
        "\n",
        "      self.move((allowed_moves[move]))\n"
      ],
      "execution_count": 57,
      "outputs": []
    },
    {
      "cell_type": "code",
      "metadata": {
        "id": "O2c84Mpw1dMc"
      },
      "source": [
        "class Tree:\n",
        "  def __init__(self, movement, puzzle, parent=None):\n",
        "    self.movement = movement\n",
        "    self.puzzle = puzzle\n",
        "    self.children = puzzle.get_allowed_moves()\n",
        "    self.parent = parent\n",
        "\n",
        "    self.visited = False\n",
        "\n",
        "  def create_child(self, i): # cria o filho i (adiciona o puzzle, executa o movimento, cria a árvore)\n",
        "    p = Puzzle(self.puzzle.board.copy())\n",
        "    p.move(self.children[i])\n",
        "\n",
        "    self.children[i] = Tree(self.children[i], p, self)"
      ],
      "execution_count": 58,
      "outputs": []
    },
    {
      "cell_type": "markdown",
      "metadata": {
        "id": "U3uIjxMP5Nv1"
      },
      "source": [
        "# Resolver o quebra-cabeças usando Buscas"
      ]
    },
    {
      "cell_type": "code",
      "metadata": {
        "id": "Ejsl49-8rJrt"
      },
      "source": [
        "from collections import deque"
      ],
      "execution_count": 59,
      "outputs": []
    },
    {
      "cell_type": "code",
      "metadata": {
        "id": "J1Iy3-L0DK3o"
      },
      "source": [
        "def create_path(node):\n",
        "  q = deque()\n",
        "  q.append(node)\n",
        "\n",
        "  while node.parent is not None:\n",
        "    node = node.parent\n",
        "    q.appendleft(node)\n",
        "\n",
        "  return q"
      ],
      "execution_count": 60,
      "outputs": []
    },
    {
      "cell_type": "markdown",
      "metadata": {
        "id": "o6ZClGCC1RxB"
      },
      "source": [
        "## Busca em largura"
      ]
    },
    {
      "cell_type": "code",
      "metadata": {
        "id": "WwaT_l3-v2xt"
      },
      "source": [
        "def bf_search(tree):\n",
        "  q = deque()\n",
        "  q.append(tree)\n",
        "\n",
        "  s = set()\n",
        "\n",
        "  while q: # while q is not empty\n",
        "    node = q.popleft()\n",
        "\n",
        "    enc = node.puzzle.encode()\n",
        "    if enc in s:\n",
        "      continue\n",
        "    \n",
        "    s.add(enc)\n",
        "\n",
        "    for i, c in enumerate(node.children):\n",
        "      node.create_child(i)\n",
        "\n",
        "      q.append(node.children[i])\n",
        "\n",
        "      if node.children[i].puzzle.check_puzzle():\n",
        "        return node.children[i], create_path(node.children[i])"
      ],
      "execution_count": 61,
      "outputs": []
    },
    {
      "cell_type": "code",
      "metadata": {
        "id": "KjHs-j7DM-lA",
        "colab": {
          "base_uri": "https://localhost:8080/"
        },
        "outputId": "a92afce6-378c-4f2f-ac55-ae06354664d0"
      },
      "source": [
        "p = Puzzle(min_moves=100, max_moves=150)\n",
        "t = Tree((-1,-1), p)\n",
        "\n",
        "p.print_board()\n",
        "\n",
        "n, path = bf_search(t)"
      ],
      "execution_count": 62,
      "outputs": [
        {
          "output_type": "stream",
          "text": [
            "[[ 1  3  7]\n",
            " [ 8  5  4]\n",
            " [ 2 -1  6]]\n"
          ],
          "name": "stdout"
        }
      ]
    },
    {
      "cell_type": "code",
      "metadata": {
        "id": "TlaBIx-VfxBK",
        "colab": {
          "base_uri": "https://localhost:8080/"
        },
        "outputId": "6886e8e7-600f-49b7-be6e-d74f801e80a7"
      },
      "source": [
        "print(\"Tamanho da solução: \", len(path))\n",
        "\n",
        "for p in path:\n",
        "  print(\"\\nPeça movida: \", p.movement)\n",
        "  p.puzzle.print_board()"
      ],
      "execution_count": 63,
      "outputs": [
        {
          "output_type": "stream",
          "text": [
            "Tamanho da solução:  24\n",
            "\n",
            "Peça movida:  (-1, -1)\n",
            "[[ 1  3  7]\n",
            " [ 8  5  4]\n",
            " [ 2 -1  6]]\n",
            "\n",
            "Peça movida:  (2, 0)\n",
            "[[ 1  3  7]\n",
            " [ 8  5  4]\n",
            " [-1  2  6]]\n",
            "\n",
            "Peça movida:  (1, 0)\n",
            "[[ 1  3  7]\n",
            " [-1  5  4]\n",
            " [ 8  2  6]]\n",
            "\n",
            "Peça movida:  (1, 1)\n",
            "[[ 1  3  7]\n",
            " [ 5 -1  4]\n",
            " [ 8  2  6]]\n",
            "\n",
            "Peça movida:  (2, 1)\n",
            "[[ 1  3  7]\n",
            " [ 5  2  4]\n",
            " [ 8 -1  6]]\n",
            "\n",
            "Peça movida:  (2, 2)\n",
            "[[ 1  3  7]\n",
            " [ 5  2  4]\n",
            " [ 8  6 -1]]\n",
            "\n",
            "Peça movida:  (1, 2)\n",
            "[[ 1  3  7]\n",
            " [ 5  2 -1]\n",
            " [ 8  6  4]]\n",
            "\n",
            "Peça movida:  (0, 2)\n",
            "[[ 1  3 -1]\n",
            " [ 5  2  7]\n",
            " [ 8  6  4]]\n",
            "\n",
            "Peça movida:  (0, 1)\n",
            "[[ 1 -1  3]\n",
            " [ 5  2  7]\n",
            " [ 8  6  4]]\n",
            "\n",
            "Peça movida:  (1, 1)\n",
            "[[ 1  2  3]\n",
            " [ 5 -1  7]\n",
            " [ 8  6  4]]\n",
            "\n",
            "Peça movida:  (1, 2)\n",
            "[[ 1  2  3]\n",
            " [ 5  7 -1]\n",
            " [ 8  6  4]]\n",
            "\n",
            "Peça movida:  (2, 2)\n",
            "[[ 1  2  3]\n",
            " [ 5  7  4]\n",
            " [ 8  6 -1]]\n",
            "\n",
            "Peça movida:  (2, 1)\n",
            "[[ 1  2  3]\n",
            " [ 5  7  4]\n",
            " [ 8 -1  6]]\n",
            "\n",
            "Peça movida:  (2, 0)\n",
            "[[ 1  2  3]\n",
            " [ 5  7  4]\n",
            " [-1  8  6]]\n",
            "\n",
            "Peça movida:  (1, 0)\n",
            "[[ 1  2  3]\n",
            " [-1  7  4]\n",
            " [ 5  8  6]]\n",
            "\n",
            "Peça movida:  (1, 1)\n",
            "[[ 1  2  3]\n",
            " [ 7 -1  4]\n",
            " [ 5  8  6]]\n",
            "\n",
            "Peça movida:  (1, 2)\n",
            "[[ 1  2  3]\n",
            " [ 7  4 -1]\n",
            " [ 5  8  6]]\n",
            "\n",
            "Peça movida:  (2, 2)\n",
            "[[ 1  2  3]\n",
            " [ 7  4  6]\n",
            " [ 5  8 -1]]\n",
            "\n",
            "Peça movida:  (2, 1)\n",
            "[[ 1  2  3]\n",
            " [ 7  4  6]\n",
            " [ 5 -1  8]]\n",
            "\n",
            "Peça movida:  (2, 0)\n",
            "[[ 1  2  3]\n",
            " [ 7  4  6]\n",
            " [-1  5  8]]\n",
            "\n",
            "Peça movida:  (1, 0)\n",
            "[[ 1  2  3]\n",
            " [-1  4  6]\n",
            " [ 7  5  8]]\n",
            "\n",
            "Peça movida:  (1, 1)\n",
            "[[ 1  2  3]\n",
            " [ 4 -1  6]\n",
            " [ 7  5  8]]\n",
            "\n",
            "Peça movida:  (2, 1)\n",
            "[[ 1  2  3]\n",
            " [ 4  5  6]\n",
            " [ 7 -1  8]]\n",
            "\n",
            "Peça movida:  (2, 2)\n",
            "[[ 1  2  3]\n",
            " [ 4  5  6]\n",
            " [ 7  8 -1]]\n"
          ],
          "name": "stdout"
        }
      ]
    },
    {
      "cell_type": "markdown",
      "metadata": {
        "id": "zCCoey-J1U5t"
      },
      "source": [
        "## Busca em Profundidade"
      ]
    },
    {
      "cell_type": "code",
      "metadata": {
        "id": "xzAOCpyUDGew"
      },
      "source": [
        "def df_search(node):\n",
        "  q = deque()\n",
        "  s = set()\n",
        "\n",
        "  node.visited = True\n",
        "  q.append(node)\n",
        "\n",
        "  s.add(node.puzzle.encode())\n",
        "\n",
        "  while q:\n",
        "    node = q[-1]\n",
        "\n",
        "    for i in range(len(node.children)):\n",
        "      if isinstance(node.children[i], tuple): \n",
        "        node.create_child(i)\n",
        "      \n",
        "      n = node.children[i]\n",
        "\n",
        "      enc = n.puzzle.encode()\n",
        "\n",
        "      if enc in s:\n",
        "        if i == len(node.children) - 1:\n",
        "          q.pop()\n",
        "        continue\n",
        "\n",
        "      s.add(enc)\n",
        "\n",
        "      if not n.visited:\n",
        "        q.append(n)\n",
        "        n.visited = True\n",
        "\n",
        "        if n.puzzle.check_puzzle():\n",
        "          return n, create_path(n)\n",
        "\n",
        "        break\n",
        "\n",
        "      if i == len(node.children - 1):\n",
        "        q.pop()"
      ],
      "execution_count": 64,
      "outputs": []
    },
    {
      "cell_type": "code",
      "metadata": {
        "colab": {
          "base_uri": "https://localhost:8080/"
        },
        "id": "-GOGIzQRHDx1",
        "outputId": "b94d0542-ac5f-473b-d4f9-84d4c2c5efdd"
      },
      "source": [
        "p = Puzzle(min_moves=100, max_moves=150)\n",
        "t = Tree((-1,-1), p)\n",
        "\n",
        "p.print_board()\n",
        "\n",
        "n, path = df_search(t)"
      ],
      "execution_count": 65,
      "outputs": [
        {
          "output_type": "stream",
          "text": [
            "[[ 3  1  8]\n",
            " [ 2  6 -1]\n",
            " [ 5  4  7]]\n"
          ],
          "name": "stdout"
        }
      ]
    },
    {
      "cell_type": "code",
      "metadata": {
        "colab": {
          "base_uri": "https://localhost:8080/"
        },
        "id": "LLIweMk1InUL",
        "outputId": "60909137-a262-4eeb-cc87-693facdff2ff"
      },
      "source": [
        "len(path)"
      ],
      "execution_count": 66,
      "outputs": [
        {
          "output_type": "execute_result",
          "data": {
            "text/plain": [
              "76070"
            ]
          },
          "metadata": {
            "tags": []
          },
          "execution_count": 66
        }
      ]
    },
    {
      "cell_type": "code",
      "metadata": {
        "id": "3eOWNnPvHH1l",
        "colab": {
          "base_uri": "https://localhost:8080/"
        },
        "outputId": "73b0ddd4-cb85-4fe6-ec32-02e9999fb76f"
      },
      "source": [
        "for i, p in enumerate(path):\n",
        "  p.puzzle.print_board()\n",
        "  if i == 10: break"
      ],
      "execution_count": 67,
      "outputs": [
        {
          "output_type": "stream",
          "text": [
            "[[ 3  1  8]\n",
            " [ 2  6 -1]\n",
            " [ 5  4  7]]\n",
            "[[ 3  1 -1]\n",
            " [ 2  6  8]\n",
            " [ 5  4  7]]\n",
            "[[ 3 -1  1]\n",
            " [ 2  6  8]\n",
            " [ 5  4  7]]\n",
            "[[ 3  6  1]\n",
            " [ 2 -1  8]\n",
            " [ 5  4  7]]\n",
            "[[ 3  6  1]\n",
            " [ 2  4  8]\n",
            " [ 5 -1  7]]\n",
            "[[ 3  6  1]\n",
            " [ 2  4  8]\n",
            " [-1  5  7]]\n",
            "[[ 3  6  1]\n",
            " [-1  4  8]\n",
            " [ 2  5  7]]\n",
            "[[-1  6  1]\n",
            " [ 3  4  8]\n",
            " [ 2  5  7]]\n",
            "[[ 6 -1  1]\n",
            " [ 3  4  8]\n",
            " [ 2  5  7]]\n",
            "[[ 6  4  1]\n",
            " [ 3 -1  8]\n",
            " [ 2  5  7]]\n",
            "[[ 6  4  1]\n",
            " [ 3  5  8]\n",
            " [ 2 -1  7]]\n"
          ],
          "name": "stdout"
        }
      ]
    },
    {
      "cell_type": "markdown",
      "metadata": {
        "id": "rXU5HkCd1ZPu"
      },
      "source": [
        "## Discusta sobre o desempenho dos métodos em questões de:\n",
        "\n",
        "\n",
        "1.   Consumo de memória\n",
        "2.   Processamento\n",
        "\n"
      ]
    },
    {
      "cell_type": "markdown",
      "metadata": {
        "id": "GMVJsOVVl5Ah"
      },
      "source": [
        "Busca em Largura: Gasta mais memória, porque precisa gerar todos movimentos, de todos ramos, feitos até a profundidade em que encontrar a melhor solução, mantendo armazenados todos nodos do nivel atual.\n",
        "    A vantagem é que, como explora todos os movimentos, sempre vai encontrar o melhor caminho."
      ]
    },
    {
      "cell_type": "markdown",
      "metadata": {
        "id": "g8d733Liq709"
      },
      "source": [
        "Busca em Profundidade: Gasta menos memória, já que armazena somente os movimentos executados na busca atual... Porém, como explora cada ramo até não encontrar mais movimentos que gerem estados ainda não encontrados, ele pode seguir caminhos muito longos.\n",
        "\n",
        "Para garantir que sempre será encontrada alguma solução, é necessário armazenar todos estados já encontrados."
      ]
    },
    {
      "cell_type": "markdown",
      "metadata": {
        "id": "OLebejlsmZwg"
      },
      "source": [
        "(Para esse problema, com um tabuleiro 3x3, sempre vai existir uma solução curta, porém possui muitos estados que podem ser visitados, fazendo com que normalmente a Busca em Largura, que não precisa procurar muito longe em caminhos demorados, encontre um resultado mais rápido)"
      ]
    }
  ]
}