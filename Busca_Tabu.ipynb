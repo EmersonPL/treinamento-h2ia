{
  "nbformat": 4,
  "nbformat_minor": 0,
  "metadata": {
    "colab": {
      "name": "Busca_Tabu_Mochila.ipynb",
      "provenance": [],
      "collapsed_sections": []
    },
    "kernelspec": {
      "name": "python3",
      "display_name": "Python 3"
    },
    "language_info": {
      "name": "python"
    }
  },
  "cells": [
    {
      "cell_type": "code",
      "metadata": {
        "id": "t0pBqZlmuQHV"
      },
      "source": [
        "class Solution:\n",
        "  def __init__(self, knapsack):\n",
        "    self.knapsack = knapsack.copy()\n",
        "\n",
        "    self.w, self.v = self.get_knapsack_value(knapsack)\n",
        "\n",
        "  def get_knapsack_value(self, knapsack):\n",
        "    w = 0\n",
        "    v = 0\n",
        "\n",
        "    for item in knapsack:\n",
        "      w += item[1]\n",
        "      v += item[2]\n",
        "\n",
        "    return w, v"
      ],
      "execution_count": 1,
      "outputs": []
    },
    {
      "cell_type": "code",
      "metadata": {
        "id": "b2PSxH-pXYvo"
      },
      "source": [
        "class TabuSearch:\n",
        "  def __init__(self, items, max_weight, tabu_size=15):\n",
        "    self.items = items\n",
        "    self.knapsack = []\n",
        "    self.current_weight = 0\n",
        "\n",
        "    self.max_weight = max_weight\n",
        "\n",
        "    self.tabu_size = tabu_size\n",
        "    self.tabu_list = deque()\n",
        "\n",
        "  \n",
        "  def search(self, max_iter=10000, max_iter_no_increment=500):\n",
        "    self.generate_solution()  # gera uma solução aleatória\n",
        "    best_solution = Solution(self.knapsack)\n",
        "\n",
        "    print(\"Solução inicial: \", self.knapsack)\n",
        "\n",
        "    iter_no_increment = 0\n",
        "\n",
        "    for i in range(max_iter):\n",
        "      n = self.get_neighbouring_solutions() # gera os vizinhos permitidos (peso <= limite)\n",
        "\n",
        "      self.remove_tabu_solutions(n, best_solution) # remove os movimentos tabu dos vizinhos (considera aspiração)\n",
        "      move = self.update_solution(n[0])\n",
        "\n",
        "      if self.get_current_value() > best_solution.v:\n",
        "        iter_no_increment = 0\n",
        "        best_solution = Solution(self.knapsack)\n",
        "\n",
        "        print(\"\\nNova melhor solução: \", self.knapsack, \"\\tCom o movimento: \", move)\n",
        "      else:\n",
        "        iter_no_increment += 1\n",
        "\n",
        "      if iter_no_increment > max_iter_no_increment:\n",
        "        return best_solution\n",
        "\n",
        "      self.update_tabu_list(move)\n",
        "    \n",
        "    return best_solution\n",
        "\n",
        "\n",
        "  def get_current_value(self):\n",
        "    value = 0\n",
        "    for item in self.knapsack:\n",
        "      value += item[2]\n",
        "\n",
        "    return value\n",
        "\n",
        "\n",
        "  def update_solution(self, n):\n",
        "    if n[0] is 'a':\n",
        "      self.add_item(n[1][0])\n",
        "      return ('a', n[1][0]) # movimento feito\n",
        "    else:\n",
        "      self.remove_item(n[1][0])\n",
        "      return ('r', n[1][0])\n",
        "\n",
        "  \n",
        "  def update_tabu_list(self, move):\n",
        "    if len(self.tabu_list) == self.tabu_size:\n",
        "      self.tabu_list.popleft()\n",
        "\n",
        "    self.tabu_list.append(move)\n",
        "\n",
        "\n",
        "  def add_item(self, i):\n",
        "    j = [x[0] for x in self.items].index(i) # encontrar o indice na lista de items (o indice passado é o inicial)\n",
        "\n",
        "    item = self.items[j]\n",
        "\n",
        "    if self.check_add(item):\n",
        "      self.knapsack.append(self.items.pop(j))\n",
        "      self.current_weight += item[1]\n",
        "      return True\n",
        "\n",
        "    return False\n",
        "    \n",
        "  def remove_item(self, i):\n",
        "    j = [x[0] for x in self.knapsack].index(i)\n",
        "\n",
        "    self.current_weight -= self.knapsack[j][1]\n",
        "    self.items.append(self.knapsack.pop(j))\n",
        "\n",
        "\n",
        "  def generate_solution(self):\n",
        "    rng = random.sample(range(len(self.items)), len(self.items))\n",
        "\n",
        "    for i in rng:\n",
        "      if not self.add_item(i):\n",
        "        return \n",
        "\n",
        "  \n",
        "  def get_neighbouring_solutions(self):\n",
        "    return self.get_add_neighbors() + self.get_remove_neighbors()\n",
        "\n",
        "  def get_add_neighbors(self):\n",
        "    n = []\n",
        "\n",
        "    for item in self.items:\n",
        "      if self.check_add(item):\n",
        "        n.append(('a', item))\n",
        "\n",
        "    n.sort(key=lambda x: x[1][2], reverse=True)\n",
        "    \n",
        "    return n\n",
        "\n",
        "  def get_remove_neighbors(self):\n",
        "    n = []\n",
        "\n",
        "    for item in self.knapsack:\n",
        "      n.append(('r', item))\n",
        "\n",
        "    n.sort(key=lambda x: x[1][2])\n",
        "\n",
        "    return n\n",
        "\n",
        "\n",
        "  def check_add(self, item):\n",
        "    if item[1] + self.current_weight <= self.max_weight:\n",
        "      return True\n",
        "\n",
        "    return False\n",
        "\n",
        "\n",
        "  def remove_tabu_solutions(self, l, best_solution):\n",
        "    current_val = self.get_current_value()\n",
        "    for item in l:\n",
        "      if (item[0], item[1][0]) in self.tabu_list:\n",
        "        if item[0] is 'a' and item[1][2] + current_val <= best_solution.v:\n",
        "          l.remove(item)"
      ],
      "execution_count": 133,
      "outputs": []
    },
    {
      "cell_type": "code",
      "metadata": {
        "id": "DMZUNNXIlfL6"
      },
      "source": [
        "import random\n",
        "from collections import deque"
      ],
      "execution_count": 134,
      "outputs": []
    },
    {
      "cell_type": "code",
      "metadata": {
        "id": "KFvplfTTrIO1"
      },
      "source": [
        "w = [63, 21,  2, 32, 13, 80, 19, 37, 56, 41, 14,  8, 32, 42,  7]\n",
        "v = [13,  2, 20, 10,  7, 14,  7,  2,  2,  4, 16, 17, 17,  3, 21]\n",
        "\n",
        "max_weight = 275"
      ],
      "execution_count": 135,
      "outputs": []
    },
    {
      "cell_type": "code",
      "metadata": {
        "id": "VUOs0B0k__q-"
      },
      "source": [
        "wv = list(zip(range(len(w)), w, v))\n",
        "\n",
        "t = TabuSearch(wv, max_weight, tabu_size=10)"
      ],
      "execution_count": 189,
      "outputs": []
    },
    {
      "cell_type": "code",
      "metadata": {
        "colab": {
          "base_uri": "https://localhost:8080/"
        },
        "id": "1t1vrCrEk7Sg",
        "outputId": "676a7e22-98e1-4b4c-fcde-7d4f9e021528"
      },
      "source": [
        "# cada item = (indice inicial, peso, valor)\n",
        "\n",
        "solution = t.search()"
      ],
      "execution_count": 190,
      "outputs": [
        {
          "output_type": "stream",
          "text": [
            "Solução inicial:  [(3, 32, 10), (13, 42, 3), (0, 63, 13), (5, 80, 14), (4, 13, 7), (7, 37, 2), (11, 8, 17)]\n",
            "\n",
            "Nova melhor solução:  [(3, 32, 10), (13, 42, 3), (0, 63, 13), (5, 80, 14), (4, 13, 7), (11, 8, 17), (14, 7, 21)] \tCom o movimento:  ('a', 14)\n",
            "\n",
            "Nova melhor solução:  [(3, 32, 10), (13, 42, 3), (0, 63, 13), (5, 80, 14), (4, 13, 7), (11, 8, 17), (14, 7, 21), (2, 2, 20)] \tCom o movimento:  ('a', 2)\n",
            "\n",
            "Nova melhor solução:  [(3, 32, 10), (13, 42, 3), (0, 63, 13), (5, 80, 14), (4, 13, 7), (11, 8, 17), (14, 7, 21), (2, 2, 20), (10, 14, 16)] \tCom o movimento:  ('a', 10)\n",
            "\n",
            "Nova melhor solução:  [(3, 32, 10), (0, 63, 13), (5, 80, 14), (4, 13, 7), (11, 8, 17), (14, 7, 21), (2, 2, 20), (10, 14, 16), (12, 32, 17)] \tCom o movimento:  ('a', 12)\n",
            "\n",
            "Nova melhor solução:  [(3, 32, 10), (0, 63, 13), (5, 80, 14), (4, 13, 7), (11, 8, 17), (14, 7, 21), (2, 2, 20), (10, 14, 16), (12, 32, 17), (6, 19, 7)] \tCom o movimento:  ('a', 6)\n"
          ],
          "name": "stdout"
        }
      ]
    },
    {
      "cell_type": "code",
      "metadata": {
        "colab": {
          "base_uri": "https://localhost:8080/"
        },
        "id": "PeV_n9zalWau",
        "outputId": "cf737383-dd76-48e8-d3d9-d3a86c0ff210"
      },
      "source": [
        "solution.knapsack"
      ],
      "execution_count": 191,
      "outputs": [
        {
          "output_type": "execute_result",
          "data": {
            "text/plain": [
              "[(3, 32, 10),\n",
              " (0, 63, 13),\n",
              " (5, 80, 14),\n",
              " (4, 13, 7),\n",
              " (11, 8, 17),\n",
              " (14, 7, 21),\n",
              " (2, 2, 20),\n",
              " (10, 14, 16),\n",
              " (12, 32, 17),\n",
              " (6, 19, 7)]"
            ]
          },
          "metadata": {
            "tags": []
          },
          "execution_count": 191
        }
      ]
    },
    {
      "cell_type": "code",
      "metadata": {
        "id": "OPUBnEnjzLp8",
        "colab": {
          "base_uri": "https://localhost:8080/"
        },
        "outputId": "6f593cab-4808-4f8c-c88d-6cf3eccb2efe"
      },
      "source": [
        "solution.w"
      ],
      "execution_count": 192,
      "outputs": [
        {
          "output_type": "execute_result",
          "data": {
            "text/plain": [
              "270"
            ]
          },
          "metadata": {
            "tags": []
          },
          "execution_count": 192
        }
      ]
    },
    {
      "cell_type": "code",
      "metadata": {
        "colab": {
          "base_uri": "https://localhost:8080/"
        },
        "id": "kEdvrQrQIcxO",
        "outputId": "4e216003-8c7a-4c57-c120-0bf573611612"
      },
      "source": [
        "solution.v"
      ],
      "execution_count": 193,
      "outputs": [
        {
          "output_type": "execute_result",
          "data": {
            "text/plain": [
              "142"
            ]
          },
          "metadata": {
            "tags": []
          },
          "execution_count": 193
        }
      ]
    }
  ]
}